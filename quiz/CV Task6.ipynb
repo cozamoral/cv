{
 "cells": [
  {
   "cell_type": "markdown",
   "metadata": {},
   "source": [
    "# 1 Задание"
   ]
  },
  {
   "cell_type": "code",
   "execution_count": 33,
   "metadata": {},
   "outputs": [],
   "source": [
    "def solution(N):\n",
    "    bin_n = bin(N)[2:]\n",
    "    counter = 0\n",
    "    l_gap = 0\n",
    "\n",
    "    for c in bin_n:\n",
    "        if c == '1':\n",
    "            if counter >= l_gap:\n",
    "                l_gap = counter\n",
    "            counter = 0\n",
    "        elif c == '0':\n",
    "            counter += 1\n",
    "    return l_gap"
   ]
  },
  {
   "cell_type": "code",
   "execution_count": 34,
   "metadata": {},
   "outputs": [
    {
     "name": "stdout",
     "output_type": "stream",
     "text": [
      "Example:  32 Length of the longest binary space:  0\n",
      "Example:  1041 Length of the longest binary space:  5\n",
      "Example:  147 Length of the longest binary space:  2\n",
      "Example:  483 Length of the longest binary space:  3\n",
      "Example:  647 Length of the longest binary space:  4\n"
     ]
    }
   ],
   "source": [
    "eg = [32, 1041, 147, 483, 647]\n",
    "for i in eg:\n",
    "    print('Example: ', i, 'Length of the longest binary space: ', solution(i))"
   ]
  },
  {
   "cell_type": "markdown",
   "metadata": {},
   "source": [
    "# 2 Задание"
   ]
  },
  {
   "cell_type": "code",
   "execution_count": 41,
   "metadata": {},
   "outputs": [],
   "source": [
    "def solution(A):\n",
    "    lower_list = []\n",
    "    upper_list = []\n",
    "    for i, a_elm in enumerate(A):\n",
    "        lower_list.append(i - a_elm)\n",
    "        upper_list.append(i + a_elm)\n",
    "\n",
    "    lower_list.sort()\n",
    "    upper_list.sort()\n",
    "    j = 0\n",
    "    counter = 0\n",
    "    total_len = len(A)\n",
    "    for i in range(total_len):\n",
    "        while(j < total_len and lower_list[j] <= upper_list[i]):\n",
    "            counter += j + 1 - 1\n",
    "            counter -= i\n",
    "            j = j + 1\n",
    "\n",
    "            if counter > 10000000:\n",
    "                return -1\n",
    "    return counter"
   ]
  },
  {
   "cell_type": "code",
   "execution_count": 42,
   "metadata": {},
   "outputs": [],
   "source": [
    "A = [1,5,2,1,4,0]"
   ]
  },
  {
   "cell_type": "code",
   "execution_count": 43,
   "metadata": {},
   "outputs": [
    {
     "data": {
      "text/plain": [
       "11"
      ]
     },
     "execution_count": 43,
     "metadata": {},
     "output_type": "execute_result"
    }
   ],
   "source": [
    "solution(A)"
   ]
  },
  {
   "cell_type": "markdown",
   "metadata": {},
   "source": [
    "# 3 Задание"
   ]
  },
  {
   "cell_type": "code",
   "execution_count": 44,
   "metadata": {},
   "outputs": [],
   "source": [
    "def solution(A):     \n",
    "    if len(A) == 1:\n",
    "         return A[0]\n",
    "    A = sorted(A)\n",
    "    for i in range(0 , len (A) , 2):\n",
    "         if i+1 == len(A):\n",
    "             return A[i]\n",
    "         if A[i] != A[i+1]:\n",
    "             return A[i]"
   ]
  },
  {
   "cell_type": "code",
   "execution_count": 45,
   "metadata": {},
   "outputs": [],
   "source": [
    "A = [9,3,9,3,9,7,9]"
   ]
  },
  {
   "cell_type": "code",
   "execution_count": 46,
   "metadata": {},
   "outputs": [
    {
     "data": {
      "text/plain": [
       "7"
      ]
     },
     "execution_count": 46,
     "metadata": {},
     "output_type": "execute_result"
    }
   ],
   "source": [
    "solution(A)"
   ]
  },
  {
   "cell_type": "markdown",
   "metadata": {},
   "source": [
    "# 4 Задание"
   ]
  },
  {
   "cell_type": "code",
   "execution_count": 47,
   "metadata": {},
   "outputs": [],
   "source": [
    "def solution(A, B):\n",
    "  result = 0\n",
    "  stack = []\n",
    "  for i in range(0, len(A)):\n",
    "    if B[i] == 1:\n",
    "      stack.append(A[i])\n",
    "      result += 1\n",
    "    else:\n",
    "      while(stack and A[i] > stack[-1]):\n",
    "        stack.pop()\n",
    "        result -= 1\n",
    "      if(not stack):\n",
    "        result += 1\n",
    "\n",
    "  return result"
   ]
  },
  {
   "cell_type": "code",
   "execution_count": 48,
   "metadata": {},
   "outputs": [],
   "source": [
    "A = [4,3,2,1,5]\n",
    "B = [0,1,0,0,0]"
   ]
  },
  {
   "cell_type": "code",
   "execution_count": 49,
   "metadata": {},
   "outputs": [
    {
     "data": {
      "text/plain": [
       "2"
      ]
     },
     "execution_count": 49,
     "metadata": {},
     "output_type": "execute_result"
    }
   ],
   "source": [
    "solution(A, B)"
   ]
  },
  {
   "cell_type": "code",
   "execution_count": null,
   "metadata": {},
   "outputs": [],
   "source": []
  }
 ],
 "metadata": {
  "kernelspec": {
   "display_name": "Python 3",
   "language": "python",
   "name": "python3"
  },
  "language_info": {
   "codemirror_mode": {
    "name": "ipython",
    "version": 3
   },
   "file_extension": ".py",
   "mimetype": "text/x-python",
   "name": "python",
   "nbconvert_exporter": "python",
   "pygments_lexer": "ipython3",
   "version": "3.8.3"
  }
 },
 "nbformat": 4,
 "nbformat_minor": 4
}
